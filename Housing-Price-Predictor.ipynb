{
 "cells": [
  {
   "cell_type": "code",
   "execution_count": 27,
   "id": "9bcfe41e-699a-4a3e-8076-3a387d95a5a0",
   "metadata": {},
   "outputs": [],
   "source": [
    "#10/21/2024 \n",
    "#This project builds multiple ML models using housing data from Kaggle to find an optimal model for predicting housing prices. \n",
    "#Neural Networks, Linear Regression, SVM, and Random Forests are used\n",
    "#Much more work can be done to furter optimize the models, and further EDA can also be done. "
   ]
  },
  {
   "cell_type": "code",
   "execution_count": 28,
   "id": "7f9e340c-03b4-40e5-ad53-c753f8c7f28b",
   "metadata": {},
   "outputs": [],
   "source": [
    "import pandas as pd\n",
    "import numpy as np \n",
    "import seaborn as sns\n",
    "import statistics as stat\n",
    "import matplotlib.pyplot as plt\n",
    "import torch\n",
    "import torch.nn as nn\n",
    "import torch.optim as optim\n",
    "import torch.nn.functional as F\n",
    "from torch.utils.data import DataLoader, TensorDataset\n",
    "from sklearn.linear_model import LinearRegression\n",
    "from sklearn.model_selection import train_test_split\n",
    "from sklearn.feature_selection import SequentialFeatureSelector\n",
    "from sklearn.neighbors import KNeighborsClassifier\n",
    "from sklearn.metrics import mean_absolute_percentage_error\n",
    "from sklearn.ensemble import RandomForestRegressor \n",
    "from sklearn import svm\n",
    "from sklearn.svm import SVC"
   ]
  },
  {
   "cell_type": "code",
   "execution_count": 29,
   "id": "da64b99c-3c3c-46cc-80b5-c12fdd87bc09",
   "metadata": {},
   "outputs": [],
   "source": [
    "import warnings \n",
    "warnings.filterwarnings(\"ignore\")"
   ]
  },
  {
   "cell_type": "code",
   "execution_count": 30,
   "id": "8812bc80-69ef-435b-9070-9063a8582501",
   "metadata": {},
   "outputs": [
    {
     "data": {
      "text/html": [
       "<div>\n",
       "<style scoped>\n",
       "    .dataframe tbody tr th:only-of-type {\n",
       "        vertical-align: middle;\n",
       "    }\n",
       "\n",
       "    .dataframe tbody tr th {\n",
       "        vertical-align: top;\n",
       "    }\n",
       "\n",
       "    .dataframe thead th {\n",
       "        text-align: right;\n",
       "    }\n",
       "</style>\n",
       "<table border=\"1\" class=\"dataframe\">\n",
       "  <thead>\n",
       "    <tr style=\"text-align: right;\">\n",
       "      <th></th>\n",
       "      <th>id</th>\n",
       "      <th>date</th>\n",
       "      <th>price</th>\n",
       "      <th>bedrooms</th>\n",
       "      <th>bathrooms</th>\n",
       "      <th>sqft_living</th>\n",
       "      <th>sqft_lot</th>\n",
       "      <th>floors</th>\n",
       "      <th>waterfront</th>\n",
       "      <th>view</th>\n",
       "      <th>...</th>\n",
       "      <th>grade</th>\n",
       "      <th>sqft_above</th>\n",
       "      <th>sqft_basement</th>\n",
       "      <th>yr_built</th>\n",
       "      <th>yr_renovated</th>\n",
       "      <th>zipcode</th>\n",
       "      <th>lat</th>\n",
       "      <th>long</th>\n",
       "      <th>sqft_living15</th>\n",
       "      <th>sqft_lot15</th>\n",
       "    </tr>\n",
       "  </thead>\n",
       "  <tbody>\n",
       "    <tr>\n",
       "      <th>0</th>\n",
       "      <td>7229300521</td>\n",
       "      <td>20141013T000000</td>\n",
       "      <td>231300.00</td>\n",
       "      <td>2</td>\n",
       "      <td>1.00</td>\n",
       "      <td>1180</td>\n",
       "      <td>5650</td>\n",
       "      <td>1.00</td>\n",
       "      <td>0</td>\n",
       "      <td>0</td>\n",
       "      <td>...</td>\n",
       "      <td>7</td>\n",
       "      <td>1180</td>\n",
       "      <td>0</td>\n",
       "      <td>1955</td>\n",
       "      <td>0</td>\n",
       "      <td>98178</td>\n",
       "      <td>47.51</td>\n",
       "      <td>-122.26</td>\n",
       "      <td>1340</td>\n",
       "      <td>5650</td>\n",
       "    </tr>\n",
       "    <tr>\n",
       "      <th>1</th>\n",
       "      <td>6414100192</td>\n",
       "      <td>20141209T000000</td>\n",
       "      <td>538000.00</td>\n",
       "      <td>3</td>\n",
       "      <td>2.25</td>\n",
       "      <td>2570</td>\n",
       "      <td>7242</td>\n",
       "      <td>2.00</td>\n",
       "      <td>0</td>\n",
       "      <td>0</td>\n",
       "      <td>...</td>\n",
       "      <td>7</td>\n",
       "      <td>2170</td>\n",
       "      <td>400</td>\n",
       "      <td>1951</td>\n",
       "      <td>1991</td>\n",
       "      <td>98125</td>\n",
       "      <td>47.72</td>\n",
       "      <td>-122.32</td>\n",
       "      <td>1690</td>\n",
       "      <td>7639</td>\n",
       "    </tr>\n",
       "    <tr>\n",
       "      <th>2</th>\n",
       "      <td>5631500400</td>\n",
       "      <td>20150225T000000</td>\n",
       "      <td>180000.00</td>\n",
       "      <td>2</td>\n",
       "      <td>1.00</td>\n",
       "      <td>770</td>\n",
       "      <td>10000</td>\n",
       "      <td>1.00</td>\n",
       "      <td>0</td>\n",
       "      <td>0</td>\n",
       "      <td>...</td>\n",
       "      <td>6</td>\n",
       "      <td>770</td>\n",
       "      <td>0</td>\n",
       "      <td>1933</td>\n",
       "      <td>0</td>\n",
       "      <td>98028</td>\n",
       "      <td>47.74</td>\n",
       "      <td>-122.23</td>\n",
       "      <td>2720</td>\n",
       "      <td>8062</td>\n",
       "    </tr>\n",
       "    <tr>\n",
       "      <th>3</th>\n",
       "      <td>2487200875</td>\n",
       "      <td>20141209T000000</td>\n",
       "      <td>604000.00</td>\n",
       "      <td>4</td>\n",
       "      <td>3.00</td>\n",
       "      <td>1960</td>\n",
       "      <td>5000</td>\n",
       "      <td>1.00</td>\n",
       "      <td>0</td>\n",
       "      <td>0</td>\n",
       "      <td>...</td>\n",
       "      <td>7</td>\n",
       "      <td>1050</td>\n",
       "      <td>910</td>\n",
       "      <td>1965</td>\n",
       "      <td>0</td>\n",
       "      <td>98136</td>\n",
       "      <td>47.52</td>\n",
       "      <td>-122.39</td>\n",
       "      <td>1360</td>\n",
       "      <td>5000</td>\n",
       "    </tr>\n",
       "    <tr>\n",
       "      <th>4</th>\n",
       "      <td>1954400510</td>\n",
       "      <td>20150218T000000</td>\n",
       "      <td>510000.00</td>\n",
       "      <td>3</td>\n",
       "      <td>2.00</td>\n",
       "      <td>1680</td>\n",
       "      <td>8080</td>\n",
       "      <td>1.00</td>\n",
       "      <td>0</td>\n",
       "      <td>0</td>\n",
       "      <td>...</td>\n",
       "      <td>8</td>\n",
       "      <td>1680</td>\n",
       "      <td>0</td>\n",
       "      <td>1987</td>\n",
       "      <td>0</td>\n",
       "      <td>98074</td>\n",
       "      <td>47.62</td>\n",
       "      <td>-122.05</td>\n",
       "      <td>1800</td>\n",
       "      <td>7503</td>\n",
       "    </tr>\n",
       "    <tr>\n",
       "      <th>...</th>\n",
       "      <td>...</td>\n",
       "      <td>...</td>\n",
       "      <td>...</td>\n",
       "      <td>...</td>\n",
       "      <td>...</td>\n",
       "      <td>...</td>\n",
       "      <td>...</td>\n",
       "      <td>...</td>\n",
       "      <td>...</td>\n",
       "      <td>...</td>\n",
       "      <td>...</td>\n",
       "      <td>...</td>\n",
       "      <td>...</td>\n",
       "      <td>...</td>\n",
       "      <td>...</td>\n",
       "      <td>...</td>\n",
       "      <td>...</td>\n",
       "      <td>...</td>\n",
       "      <td>...</td>\n",
       "      <td>...</td>\n",
       "      <td>...</td>\n",
       "    </tr>\n",
       "    <tr>\n",
       "      <th>21608</th>\n",
       "      <td>263000018</td>\n",
       "      <td>20140521T000000</td>\n",
       "      <td>360000.00</td>\n",
       "      <td>3</td>\n",
       "      <td>2.50</td>\n",
       "      <td>1530</td>\n",
       "      <td>1131</td>\n",
       "      <td>3.00</td>\n",
       "      <td>0</td>\n",
       "      <td>0</td>\n",
       "      <td>...</td>\n",
       "      <td>8</td>\n",
       "      <td>1530</td>\n",
       "      <td>0</td>\n",
       "      <td>2009</td>\n",
       "      <td>0</td>\n",
       "      <td>98103</td>\n",
       "      <td>47.70</td>\n",
       "      <td>-122.35</td>\n",
       "      <td>1530</td>\n",
       "      <td>1509</td>\n",
       "    </tr>\n",
       "    <tr>\n",
       "      <th>21609</th>\n",
       "      <td>6600060120</td>\n",
       "      <td>20150223T000000</td>\n",
       "      <td>400000.00</td>\n",
       "      <td>4</td>\n",
       "      <td>2.50</td>\n",
       "      <td>2310</td>\n",
       "      <td>5813</td>\n",
       "      <td>2.00</td>\n",
       "      <td>0</td>\n",
       "      <td>0</td>\n",
       "      <td>...</td>\n",
       "      <td>8</td>\n",
       "      <td>2310</td>\n",
       "      <td>0</td>\n",
       "      <td>2014</td>\n",
       "      <td>0</td>\n",
       "      <td>98146</td>\n",
       "      <td>47.51</td>\n",
       "      <td>-122.36</td>\n",
       "      <td>1830</td>\n",
       "      <td>7200</td>\n",
       "    </tr>\n",
       "    <tr>\n",
       "      <th>21610</th>\n",
       "      <td>1523300141</td>\n",
       "      <td>20140623T000000</td>\n",
       "      <td>402101.00</td>\n",
       "      <td>2</td>\n",
       "      <td>0.75</td>\n",
       "      <td>1020</td>\n",
       "      <td>1350</td>\n",
       "      <td>2.00</td>\n",
       "      <td>0</td>\n",
       "      <td>0</td>\n",
       "      <td>...</td>\n",
       "      <td>7</td>\n",
       "      <td>1020</td>\n",
       "      <td>0</td>\n",
       "      <td>2009</td>\n",
       "      <td>0</td>\n",
       "      <td>98144</td>\n",
       "      <td>47.59</td>\n",
       "      <td>-122.30</td>\n",
       "      <td>1020</td>\n",
       "      <td>2007</td>\n",
       "    </tr>\n",
       "    <tr>\n",
       "      <th>21611</th>\n",
       "      <td>291310100</td>\n",
       "      <td>20150116T000000</td>\n",
       "      <td>400000.00</td>\n",
       "      <td>3</td>\n",
       "      <td>2.50</td>\n",
       "      <td>1600</td>\n",
       "      <td>2388</td>\n",
       "      <td>2.00</td>\n",
       "      <td>0</td>\n",
       "      <td>0</td>\n",
       "      <td>...</td>\n",
       "      <td>8</td>\n",
       "      <td>1600</td>\n",
       "      <td>0</td>\n",
       "      <td>2004</td>\n",
       "      <td>0</td>\n",
       "      <td>98027</td>\n",
       "      <td>47.53</td>\n",
       "      <td>-122.07</td>\n",
       "      <td>1410</td>\n",
       "      <td>1287</td>\n",
       "    </tr>\n",
       "    <tr>\n",
       "      <th>21612</th>\n",
       "      <td>1523300157</td>\n",
       "      <td>20141015T000000</td>\n",
       "      <td>325000.00</td>\n",
       "      <td>2</td>\n",
       "      <td>0.75</td>\n",
       "      <td>1020</td>\n",
       "      <td>1076</td>\n",
       "      <td>2.00</td>\n",
       "      <td>0</td>\n",
       "      <td>0</td>\n",
       "      <td>...</td>\n",
       "      <td>7</td>\n",
       "      <td>1020</td>\n",
       "      <td>0</td>\n",
       "      <td>2008</td>\n",
       "      <td>0</td>\n",
       "      <td>98144</td>\n",
       "      <td>47.59</td>\n",
       "      <td>-122.30</td>\n",
       "      <td>1020</td>\n",
       "      <td>1357</td>\n",
       "    </tr>\n",
       "  </tbody>\n",
       "</table>\n",
       "<p>21613 rows × 21 columns</p>\n",
       "</div>"
      ],
      "text/plain": [
       "               id             date     price  bedrooms  bathrooms  \\\n",
       "0      7229300521  20141013T000000 231300.00         2       1.00   \n",
       "1      6414100192  20141209T000000 538000.00         3       2.25   \n",
       "2      5631500400  20150225T000000 180000.00         2       1.00   \n",
       "3      2487200875  20141209T000000 604000.00         4       3.00   \n",
       "4      1954400510  20150218T000000 510000.00         3       2.00   \n",
       "...           ...              ...       ...       ...        ...   \n",
       "21608   263000018  20140521T000000 360000.00         3       2.50   \n",
       "21609  6600060120  20150223T000000 400000.00         4       2.50   \n",
       "21610  1523300141  20140623T000000 402101.00         2       0.75   \n",
       "21611   291310100  20150116T000000 400000.00         3       2.50   \n",
       "21612  1523300157  20141015T000000 325000.00         2       0.75   \n",
       "\n",
       "       sqft_living  sqft_lot  floors  waterfront  view  ...  grade  \\\n",
       "0             1180      5650    1.00           0     0  ...      7   \n",
       "1             2570      7242    2.00           0     0  ...      7   \n",
       "2              770     10000    1.00           0     0  ...      6   \n",
       "3             1960      5000    1.00           0     0  ...      7   \n",
       "4             1680      8080    1.00           0     0  ...      8   \n",
       "...            ...       ...     ...         ...   ...  ...    ...   \n",
       "21608         1530      1131    3.00           0     0  ...      8   \n",
       "21609         2310      5813    2.00           0     0  ...      8   \n",
       "21610         1020      1350    2.00           0     0  ...      7   \n",
       "21611         1600      2388    2.00           0     0  ...      8   \n",
       "21612         1020      1076    2.00           0     0  ...      7   \n",
       "\n",
       "       sqft_above  sqft_basement  yr_built  yr_renovated  zipcode   lat  \\\n",
       "0            1180              0      1955             0    98178 47.51   \n",
       "1            2170            400      1951          1991    98125 47.72   \n",
       "2             770              0      1933             0    98028 47.74   \n",
       "3            1050            910      1965             0    98136 47.52   \n",
       "4            1680              0      1987             0    98074 47.62   \n",
       "...           ...            ...       ...           ...      ...   ...   \n",
       "21608        1530              0      2009             0    98103 47.70   \n",
       "21609        2310              0      2014             0    98146 47.51   \n",
       "21610        1020              0      2009             0    98144 47.59   \n",
       "21611        1600              0      2004             0    98027 47.53   \n",
       "21612        1020              0      2008             0    98144 47.59   \n",
       "\n",
       "         long  sqft_living15  sqft_lot15  \n",
       "0     -122.26           1340        5650  \n",
       "1     -122.32           1690        7639  \n",
       "2     -122.23           2720        8062  \n",
       "3     -122.39           1360        5000  \n",
       "4     -122.05           1800        7503  \n",
       "...       ...            ...         ...  \n",
       "21608 -122.35           1530        1509  \n",
       "21609 -122.36           1830        7200  \n",
       "21610 -122.30           1020        2007  \n",
       "21611 -122.07           1410        1287  \n",
       "21612 -122.30           1020        1357  \n",
       "\n",
       "[21613 rows x 21 columns]"
      ]
     },
     "execution_count": 30,
     "metadata": {},
     "output_type": "execute_result"
    }
   ],
   "source": [
    "df = pd.read_csv(\"Housing.csv\") \n",
    "df"
   ]
  },
  {
   "cell_type": "code",
   "execution_count": 31,
   "id": "ee2c21d9-9e66-4e8d-acec-16e66f34e41f",
   "metadata": {},
   "outputs": [
    {
     "name": "stdout",
     "output_type": "stream",
     "text": [
      "Index(['id', 'date', 'price', 'bedrooms', 'bathrooms', 'sqft_living',\n",
      "       'sqft_lot', 'floors', 'waterfront', 'view', 'condition', 'grade',\n",
      "       'sqft_above', 'sqft_basement', 'yr_built', 'yr_renovated', 'zipcode',\n",
      "       'lat', 'long', 'sqft_living15', 'sqft_lot15'],\n",
      "      dtype='object')\n"
     ]
    }
   ],
   "source": [
    "columns = df.columns\n",
    "print(columns)"
   ]
  },
  {
   "cell_type": "code",
   "execution_count": 32,
   "id": "272db027-1c6f-4657-9ea0-f06edf4c0254",
   "metadata": {},
   "outputs": [
    {
     "data": {
      "text/html": [
       "<div>\n",
       "<style scoped>\n",
       "    .dataframe tbody tr th:only-of-type {\n",
       "        vertical-align: middle;\n",
       "    }\n",
       "\n",
       "    .dataframe tbody tr th {\n",
       "        vertical-align: top;\n",
       "    }\n",
       "\n",
       "    .dataframe thead th {\n",
       "        text-align: right;\n",
       "    }\n",
       "</style>\n",
       "<table border=\"1\" class=\"dataframe\">\n",
       "  <thead>\n",
       "    <tr style=\"text-align: right;\">\n",
       "      <th></th>\n",
       "      <th>bedrooms</th>\n",
       "      <th>bathrooms</th>\n",
       "      <th>sqft_living</th>\n",
       "      <th>sqft_lot</th>\n",
       "      <th>floors</th>\n",
       "      <th>waterfront</th>\n",
       "      <th>view</th>\n",
       "      <th>condition</th>\n",
       "      <th>grade</th>\n",
       "      <th>sqft_above</th>\n",
       "      <th>sqft_basement</th>\n",
       "      <th>yr_built</th>\n",
       "      <th>yr_renovated</th>\n",
       "      <th>sqft_living15</th>\n",
       "      <th>sqft_lot15</th>\n",
       "    </tr>\n",
       "  </thead>\n",
       "  <tbody>\n",
       "    <tr>\n",
       "      <th>0</th>\n",
       "      <td>2</td>\n",
       "      <td>1.00</td>\n",
       "      <td>1180</td>\n",
       "      <td>5650</td>\n",
       "      <td>1.00</td>\n",
       "      <td>0</td>\n",
       "      <td>0</td>\n",
       "      <td>3</td>\n",
       "      <td>7</td>\n",
       "      <td>1180</td>\n",
       "      <td>0</td>\n",
       "      <td>1955</td>\n",
       "      <td>0</td>\n",
       "      <td>1340</td>\n",
       "      <td>5650</td>\n",
       "    </tr>\n",
       "    <tr>\n",
       "      <th>1</th>\n",
       "      <td>3</td>\n",
       "      <td>2.25</td>\n",
       "      <td>2570</td>\n",
       "      <td>7242</td>\n",
       "      <td>2.00</td>\n",
       "      <td>0</td>\n",
       "      <td>0</td>\n",
       "      <td>3</td>\n",
       "      <td>7</td>\n",
       "      <td>2170</td>\n",
       "      <td>400</td>\n",
       "      <td>1951</td>\n",
       "      <td>1991</td>\n",
       "      <td>1690</td>\n",
       "      <td>7639</td>\n",
       "    </tr>\n",
       "    <tr>\n",
       "      <th>2</th>\n",
       "      <td>2</td>\n",
       "      <td>1.00</td>\n",
       "      <td>770</td>\n",
       "      <td>10000</td>\n",
       "      <td>1.00</td>\n",
       "      <td>0</td>\n",
       "      <td>0</td>\n",
       "      <td>3</td>\n",
       "      <td>6</td>\n",
       "      <td>770</td>\n",
       "      <td>0</td>\n",
       "      <td>1933</td>\n",
       "      <td>0</td>\n",
       "      <td>2720</td>\n",
       "      <td>8062</td>\n",
       "    </tr>\n",
       "    <tr>\n",
       "      <th>3</th>\n",
       "      <td>4</td>\n",
       "      <td>3.00</td>\n",
       "      <td>1960</td>\n",
       "      <td>5000</td>\n",
       "      <td>1.00</td>\n",
       "      <td>0</td>\n",
       "      <td>0</td>\n",
       "      <td>5</td>\n",
       "      <td>7</td>\n",
       "      <td>1050</td>\n",
       "      <td>910</td>\n",
       "      <td>1965</td>\n",
       "      <td>0</td>\n",
       "      <td>1360</td>\n",
       "      <td>5000</td>\n",
       "    </tr>\n",
       "    <tr>\n",
       "      <th>4</th>\n",
       "      <td>3</td>\n",
       "      <td>2.00</td>\n",
       "      <td>1680</td>\n",
       "      <td>8080</td>\n",
       "      <td>1.00</td>\n",
       "      <td>0</td>\n",
       "      <td>0</td>\n",
       "      <td>3</td>\n",
       "      <td>8</td>\n",
       "      <td>1680</td>\n",
       "      <td>0</td>\n",
       "      <td>1987</td>\n",
       "      <td>0</td>\n",
       "      <td>1800</td>\n",
       "      <td>7503</td>\n",
       "    </tr>\n",
       "    <tr>\n",
       "      <th>...</th>\n",
       "      <td>...</td>\n",
       "      <td>...</td>\n",
       "      <td>...</td>\n",
       "      <td>...</td>\n",
       "      <td>...</td>\n",
       "      <td>...</td>\n",
       "      <td>...</td>\n",
       "      <td>...</td>\n",
       "      <td>...</td>\n",
       "      <td>...</td>\n",
       "      <td>...</td>\n",
       "      <td>...</td>\n",
       "      <td>...</td>\n",
       "      <td>...</td>\n",
       "      <td>...</td>\n",
       "    </tr>\n",
       "    <tr>\n",
       "      <th>21608</th>\n",
       "      <td>3</td>\n",
       "      <td>2.50</td>\n",
       "      <td>1530</td>\n",
       "      <td>1131</td>\n",
       "      <td>3.00</td>\n",
       "      <td>0</td>\n",
       "      <td>0</td>\n",
       "      <td>3</td>\n",
       "      <td>8</td>\n",
       "      <td>1530</td>\n",
       "      <td>0</td>\n",
       "      <td>2009</td>\n",
       "      <td>0</td>\n",
       "      <td>1530</td>\n",
       "      <td>1509</td>\n",
       "    </tr>\n",
       "    <tr>\n",
       "      <th>21609</th>\n",
       "      <td>4</td>\n",
       "      <td>2.50</td>\n",
       "      <td>2310</td>\n",
       "      <td>5813</td>\n",
       "      <td>2.00</td>\n",
       "      <td>0</td>\n",
       "      <td>0</td>\n",
       "      <td>3</td>\n",
       "      <td>8</td>\n",
       "      <td>2310</td>\n",
       "      <td>0</td>\n",
       "      <td>2014</td>\n",
       "      <td>0</td>\n",
       "      <td>1830</td>\n",
       "      <td>7200</td>\n",
       "    </tr>\n",
       "    <tr>\n",
       "      <th>21610</th>\n",
       "      <td>2</td>\n",
       "      <td>0.75</td>\n",
       "      <td>1020</td>\n",
       "      <td>1350</td>\n",
       "      <td>2.00</td>\n",
       "      <td>0</td>\n",
       "      <td>0</td>\n",
       "      <td>3</td>\n",
       "      <td>7</td>\n",
       "      <td>1020</td>\n",
       "      <td>0</td>\n",
       "      <td>2009</td>\n",
       "      <td>0</td>\n",
       "      <td>1020</td>\n",
       "      <td>2007</td>\n",
       "    </tr>\n",
       "    <tr>\n",
       "      <th>21611</th>\n",
       "      <td>3</td>\n",
       "      <td>2.50</td>\n",
       "      <td>1600</td>\n",
       "      <td>2388</td>\n",
       "      <td>2.00</td>\n",
       "      <td>0</td>\n",
       "      <td>0</td>\n",
       "      <td>3</td>\n",
       "      <td>8</td>\n",
       "      <td>1600</td>\n",
       "      <td>0</td>\n",
       "      <td>2004</td>\n",
       "      <td>0</td>\n",
       "      <td>1410</td>\n",
       "      <td>1287</td>\n",
       "    </tr>\n",
       "    <tr>\n",
       "      <th>21612</th>\n",
       "      <td>2</td>\n",
       "      <td>0.75</td>\n",
       "      <td>1020</td>\n",
       "      <td>1076</td>\n",
       "      <td>2.00</td>\n",
       "      <td>0</td>\n",
       "      <td>0</td>\n",
       "      <td>3</td>\n",
       "      <td>7</td>\n",
       "      <td>1020</td>\n",
       "      <td>0</td>\n",
       "      <td>2008</td>\n",
       "      <td>0</td>\n",
       "      <td>1020</td>\n",
       "      <td>1357</td>\n",
       "    </tr>\n",
       "  </tbody>\n",
       "</table>\n",
       "<p>21613 rows × 15 columns</p>\n",
       "</div>"
      ],
      "text/plain": [
       "       bedrooms  bathrooms  sqft_living  sqft_lot  floors  waterfront  view  \\\n",
       "0             2       1.00         1180      5650    1.00           0     0   \n",
       "1             3       2.25         2570      7242    2.00           0     0   \n",
       "2             2       1.00          770     10000    1.00           0     0   \n",
       "3             4       3.00         1960      5000    1.00           0     0   \n",
       "4             3       2.00         1680      8080    1.00           0     0   \n",
       "...         ...        ...          ...       ...     ...         ...   ...   \n",
       "21608         3       2.50         1530      1131    3.00           0     0   \n",
       "21609         4       2.50         2310      5813    2.00           0     0   \n",
       "21610         2       0.75         1020      1350    2.00           0     0   \n",
       "21611         3       2.50         1600      2388    2.00           0     0   \n",
       "21612         2       0.75         1020      1076    2.00           0     0   \n",
       "\n",
       "       condition  grade  sqft_above  sqft_basement  yr_built  yr_renovated  \\\n",
       "0              3      7        1180              0      1955             0   \n",
       "1              3      7        2170            400      1951          1991   \n",
       "2              3      6         770              0      1933             0   \n",
       "3              5      7        1050            910      1965             0   \n",
       "4              3      8        1680              0      1987             0   \n",
       "...          ...    ...         ...            ...       ...           ...   \n",
       "21608          3      8        1530              0      2009             0   \n",
       "21609          3      8        2310              0      2014             0   \n",
       "21610          3      7        1020              0      2009             0   \n",
       "21611          3      8        1600              0      2004             0   \n",
       "21612          3      7        1020              0      2008             0   \n",
       "\n",
       "       sqft_living15  sqft_lot15  \n",
       "0               1340        5650  \n",
       "1               1690        7639  \n",
       "2               2720        8062  \n",
       "3               1360        5000  \n",
       "4               1800        7503  \n",
       "...              ...         ...  \n",
       "21608           1530        1509  \n",
       "21609           1830        7200  \n",
       "21610           1020        2007  \n",
       "21611           1410        1287  \n",
       "21612           1020        1357  \n",
       "\n",
       "[21613 rows x 15 columns]"
      ]
     },
     "execution_count": 32,
     "metadata": {},
     "output_type": "execute_result"
    }
   ],
   "source": [
    "#Need to drop insignificant variables\n",
    "#Dropping some location related variables as well\n",
    "df_predictors = df.drop(['id', 'date', 'price', 'zipcode', 'lat', 'long'], axis = 1) \n",
    "df_predictors"
   ]
  },
  {
   "cell_type": "code",
   "execution_count": 33,
   "id": "8ba95d02-c922-4f36-8924-9b836ee60e9b",
   "metadata": {},
   "outputs": [
    {
     "data": {
      "text/plain": [
       "0       231300.00\n",
       "1       538000.00\n",
       "2       180000.00\n",
       "3       604000.00\n",
       "4       510000.00\n",
       "           ...   \n",
       "21608   360000.00\n",
       "21609   400000.00\n",
       "21610   402101.00\n",
       "21611   400000.00\n",
       "21612   325000.00\n",
       "Name: price, Length: 21613, dtype: float64"
      ]
     },
     "execution_count": 33,
     "metadata": {},
     "output_type": "execute_result"
    }
   ],
   "source": [
    "prices = df['price']\n",
    "prices"
   ]
  },
  {
   "cell_type": "code",
   "execution_count": 34,
   "id": "2d77466d-1d87-4913-bb82-b8eb0e1f6998",
   "metadata": {},
   "outputs": [],
   "source": [
    "#EDA "
   ]
  },
  {
   "cell_type": "code",
   "execution_count": 35,
   "id": "d78442a1-a71d-485c-9332-8c6abf1cb33a",
   "metadata": {},
   "outputs": [
    {
     "data": {
      "text/plain": [
       "id               0\n",
       "date             0\n",
       "price            0\n",
       "bedrooms         0\n",
       "bathrooms        0\n",
       "sqft_living      0\n",
       "sqft_lot         0\n",
       "floors           0\n",
       "waterfront       0\n",
       "view             0\n",
       "condition        0\n",
       "grade            0\n",
       "sqft_above       0\n",
       "sqft_basement    0\n",
       "yr_built         0\n",
       "yr_renovated     0\n",
       "zipcode          0\n",
       "lat              0\n",
       "long             0\n",
       "sqft_living15    0\n",
       "sqft_lot15       0\n",
       "dtype: int64"
      ]
     },
     "execution_count": 35,
     "metadata": {},
     "output_type": "execute_result"
    }
   ],
   "source": [
    "#Check for missing values\n",
    "df.isnull().sum()"
   ]
  },
  {
   "cell_type": "code",
   "execution_count": 36,
   "id": "db2f1099-728f-4c03-a167-4a1981784a4b",
   "metadata": {},
   "outputs": [
    {
     "data": {
      "text/plain": [
       "540088.58"
      ]
     },
     "execution_count": 36,
     "metadata": {},
     "output_type": "execute_result"
    }
   ],
   "source": [
    "average_price = stat.mean(prices)\n",
    "round(average_price, 2)"
   ]
  },
  {
   "cell_type": "code",
   "execution_count": 37,
   "id": "05929727-edae-4fd0-852e-1dd4f6e9c8dc",
   "metadata": {},
   "outputs": [
    {
     "data": {
      "text/html": [
       "<div>\n",
       "<style scoped>\n",
       "    .dataframe tbody tr th:only-of-type {\n",
       "        vertical-align: middle;\n",
       "    }\n",
       "\n",
       "    .dataframe tbody tr th {\n",
       "        vertical-align: top;\n",
       "    }\n",
       "\n",
       "    .dataframe thead th {\n",
       "        text-align: right;\n",
       "    }\n",
       "</style>\n",
       "<table border=\"1\" class=\"dataframe\">\n",
       "  <thead>\n",
       "    <tr style=\"text-align: right;\">\n",
       "      <th></th>\n",
       "      <th>price</th>\n",
       "    </tr>\n",
       "  </thead>\n",
       "  <tbody>\n",
       "    <tr>\n",
       "      <th>count</th>\n",
       "      <td>21613.00</td>\n",
       "    </tr>\n",
       "    <tr>\n",
       "      <th>mean</th>\n",
       "      <td>540088.58</td>\n",
       "    </tr>\n",
       "    <tr>\n",
       "      <th>std</th>\n",
       "      <td>367126.83</td>\n",
       "    </tr>\n",
       "    <tr>\n",
       "      <th>min</th>\n",
       "      <td>75000.00</td>\n",
       "    </tr>\n",
       "    <tr>\n",
       "      <th>25%</th>\n",
       "      <td>321950.00</td>\n",
       "    </tr>\n",
       "    <tr>\n",
       "      <th>50%</th>\n",
       "      <td>450000.00</td>\n",
       "    </tr>\n",
       "    <tr>\n",
       "      <th>75%</th>\n",
       "      <td>645000.00</td>\n",
       "    </tr>\n",
       "    <tr>\n",
       "      <th>max</th>\n",
       "      <td>7700000.00</td>\n",
       "    </tr>\n",
       "  </tbody>\n",
       "</table>\n",
       "</div>"
      ],
      "text/plain": [
       "           price\n",
       "count   21613.00\n",
       "mean   540088.58\n",
       "std    367126.83\n",
       "min     75000.00\n",
       "25%    321950.00\n",
       "50%    450000.00\n",
       "75%    645000.00\n",
       "max   7700000.00"
      ]
     },
     "execution_count": 37,
     "metadata": {},
     "output_type": "execute_result"
    }
   ],
   "source": [
    "pd.set_option('display.float_format', lambda x: '%.2f' % x) #2 decimal points \n",
    "df[[\"price\"]].describe()"
   ]
  },
  {
   "cell_type": "code",
   "execution_count": 38,
   "id": "e8e2fd5a-a6aa-459a-949c-9392d1128b4d",
   "metadata": {},
   "outputs": [
    {
     "data": {
      "text/plain": [
       "Text(0.5, 1.0, 'Price Distribution Plot')"
      ]
     },
     "execution_count": 38,
     "metadata": {},
     "output_type": "execute_result"
    },
    {
     "data": {
      "text/plain": [
       "<Figure size 1000x1000 with 0 Axes>"
      ]
     },
     "metadata": {},
     "output_type": "display_data"
    },
    {
     "data": {
      "image/png": "[encoded data removed]",
      "text/plain": [
       "<Figure size 500x500 with 1 Axes>"
      ]
     },
     "metadata": {},
     "output_type": "display_data"
    }
   ],
   "source": [
    "#Price Displot\n",
    "plt.figure(figsize = (10,10)) \n",
    "sns.displot(prices, kind = 'kde')\n",
    "plt.title(\"Price Distribution Plot\")"
   ]
  },
  {
   "cell_type": "code",
   "execution_count": 39,
   "id": "da07f695-1b35-490f-ad4c-6ffb28120e3b",
   "metadata": {},
   "outputs": [
    {
     "data": {
      "text/plain": [
       "Text(0.5, 1.0, 'Boxplot of Bedrooms vs Price')"
      ]
     },
     "execution_count": 39,
     "metadata": {},
     "output_type": "execute_result"
    },
    {
     "data": {
      "image/png": "[encoded data removed]",
      "text/plain": [
       "<Figure size 1000x1000 with 1 Axes>"
      ]
     },
     "metadata": {},
     "output_type": "display_data"
    }
   ],
   "source": [
    "#Bedrooms vs Price Boxplot\n",
    "plt.figure(figsize = (10,10)) \n",
    "sns.boxplot(x = 'bedrooms', y = 'price', data = df, color = 'red') \n",
    "plt.title(\"Boxplot of Bedrooms vs Price\") "
   ]
  },
  {
   "cell_type": "code",
   "execution_count": 40,
   "id": "8ff9ee45-0edb-4b6f-838a-a28392e97372",
   "metadata": {},
   "outputs": [
    {
     "data": {
      "text/plain": [
       "Text(0.5, 1.0, 'Boxplot of Bathrooms vs Price')"
      ]
     },
     "execution_count": 40,
     "metadata": {},
     "output_type": "execute_result"
    },
    {
     "data": {
      "image/png": "[encoded data removed]",
      "text/plain": [
       "<Figure size 1200x1200 with 1 Axes>"
      ]
     },
     "metadata": {},
     "output_type": "display_data"
    }
   ],
   "source": [
    "#Boxplot of Bathrooms vs Price\n",
    "plt.figure(figsize = (12,12))\n",
    "sns.boxplot(x = 'bathrooms', y = 'price', data = df, color = 'green') \n",
    "plt.title(\"Boxplot of Bathrooms vs Price\")"
   ]
  },
  {
   "cell_type": "code",
   "execution_count": 41,
   "id": "3a1a4281-ba9a-4ef3-99b8-6e194a737384",
   "metadata": {},
   "outputs": [
    {
     "data": {
      "text/plain": [
       "Text(0.5, 1.0, 'Correlation Plot')"
      ]
     },
     "execution_count": 41,
     "metadata": {},
     "output_type": "execute_result"
    },
    {
     "data": {
      "image/png": "[encoded data removed]",
      "text/plain": [
       "<Figure size 1000x1000 with 2 Axes>"
      ]
     },
     "metadata": {},
     "output_type": "display_data"
    }
   ],
   "source": [
    "#Correlation Heatmap for all numeric variables\n",
    "df_numeric = df.drop(['id', 'date', 'zipcode', 'lat', 'long'], axis = 1)\n",
    "cor = df_numeric.corr()\n",
    "upper_triangle = np.triu(cor) \n",
    "plt.figure(figsize = (10,10)) \n",
    "sns.heatmap(cor, cbar = True, square = True, fmt = \".1f\", annot = True, annot_kws = {'size':8}, cmap = 'BrBG', mask = upper_triangle)\n",
    "plt.title('Correlation Plot') "
   ]
  },
  {
   "cell_type": "code",
   "execution_count": 42,
   "id": "72cd094f-5b5a-4e88-aba6-6a6b7778c24c",
   "metadata": {},
   "outputs": [],
   "source": [
    "#According to the Correlation Plot, these variables are the most correlated with price \n",
    "#sqft_living\n",
    "#grade\n",
    "#sqft_living15\n",
    "#sqft_above"
   ]
  },
  {
   "cell_type": "code",
   "execution_count": 43,
   "id": "8fc68f72-ce34-4954-817e-467aa6055660",
   "metadata": {},
   "outputs": [
    {
     "data": {
      "text/plain": [
       "Text(0.5, 1.0, 'Floors Count Plot')"
      ]
     },
     "execution_count": 43,
     "metadata": {},
     "output_type": "execute_result"
    },
    {
     "data": {
      "image/png": "[encoded data removed]",
      "text/plain": [
       "<Figure size 1000x1000 with 1 Axes>"
      ]
     },
     "metadata": {},
     "output_type": "display_data"
    }
   ],
   "source": [
    "#Count plot for floors \n",
    "plt.figure(figsize = (10,10))\n",
    "sns.countplot(x = 'floors', data = df, color = 'orange')\n",
    "plt.title('Floors Count Plot') "
   ]
  },
  {
   "cell_type": "code",
   "execution_count": 44,
   "id": "d2a72b6e-c6b3-42cd-8da1-dce51894c33d",
   "metadata": {},
   "outputs": [],
   "source": [
    "#Defining Train and Test Datasets\n",
    "X = df_predictors\n",
    "y = prices\n",
    "\n",
    "X_train, X_test, y_train, y_test = train_test_split(X, y, train_size = 0.7, test_size = 0.3)"
   ]
  },
  {
   "cell_type": "code",
   "execution_count": 45,
   "id": "ae359061-c03a-42c3-9d21-25a80ebc6a62",
   "metadata": {},
   "outputs": [],
   "source": [
    "#Models with all Predictors"
   ]
  },
  {
   "cell_type": "code",
   "execution_count": 46,
   "id": "fc2b5372-575f-4d12-95ad-dbcc5c8e3f97",
   "metadata": {},
   "outputs": [
    {
     "name": "stdout",
     "output_type": "stream",
     "text": [
      "MAPE: 0.2891228576728066\n"
     ]
    }
   ],
   "source": [
    "#Linear Regression\n",
    "regr = LinearRegression()\n",
    "regr.fit(X_train, y_train)\n",
    "y_pred = regr.predict(X_test) \n",
    "print(\"MAPE:\", mean_absolute_percentage_error(y_test, y_pred))"
   ]
  },
  {
   "cell_type": "code",
   "execution_count": 47,
   "id": "e29e82a2-7d95-4e26-ac34-82663f40ce9a",
   "metadata": {},
   "outputs": [
    {
     "name": "stdout",
     "output_type": "stream",
     "text": [
      "MAPE: 0.235527307298265\n"
     ]
    }
   ],
   "source": [
    "#Random Forest Regressor \n",
    "RF = RandomForestRegressor()\n",
    "RF.fit(X_train, y_train)\n",
    "y_pred = RF.predict(X_test)\n",
    "print(\"MAPE:\", mean_absolute_percentage_error(y_test, y_pred))"
   ]
  },
  {
   "cell_type": "code",
   "execution_count": 48,
   "id": "0da862b3-5c0b-4eff-a653-2083d70a9801",
   "metadata": {},
   "outputs": [
    {
     "name": "stdout",
     "output_type": "stream",
     "text": [
      "MAPE: 0.4322675065015057\n"
     ]
    }
   ],
   "source": [
    "#SVM \n",
    "SVM = svm.SVR()\n",
    "SVM.fit(X_train, y_train)\n",
    "y_pred = SVM.predict(X_test) \n",
    "print(\"MAPE:\", mean_absolute_percentage_error(y_test, y_pred))"
   ]
  },
  {
   "cell_type": "code",
   "execution_count": 49,
   "id": "c38d148a-265b-4c89-a010-7c9312084f3a",
   "metadata": {},
   "outputs": [],
   "source": [
    "#Models with the significant features from the correlation plot "
   ]
  },
  {
   "cell_type": "code",
   "execution_count": 50,
   "id": "338982fc-f374-43e1-96f2-091de30a468f",
   "metadata": {},
   "outputs": [
    {
     "data": {
      "text/html": [
       "<div>\n",
       "<style scoped>\n",
       "    .dataframe tbody tr th:only-of-type {\n",
       "        vertical-align: middle;\n",
       "    }\n",
       "\n",
       "    .dataframe tbody tr th {\n",
       "        vertical-align: top;\n",
       "    }\n",
       "\n",
       "    .dataframe thead th {\n",
       "        text-align: right;\n",
       "    }\n",
       "</style>\n",
       "<table border=\"1\" class=\"dataframe\">\n",
       "  <thead>\n",
       "    <tr style=\"text-align: right;\">\n",
       "      <th></th>\n",
       "      <th>bathrooms</th>\n",
       "      <th>sqft_living</th>\n",
       "      <th>grade</th>\n",
       "      <th>sqft_living15</th>\n",
       "      <th>sqft_above</th>\n",
       "    </tr>\n",
       "  </thead>\n",
       "  <tbody>\n",
       "    <tr>\n",
       "      <th>0</th>\n",
       "      <td>1.00</td>\n",
       "      <td>1180</td>\n",
       "      <td>7</td>\n",
       "      <td>1340</td>\n",
       "      <td>1180</td>\n",
       "    </tr>\n",
       "    <tr>\n",
       "      <th>1</th>\n",
       "      <td>2.25</td>\n",
       "      <td>2570</td>\n",
       "      <td>7</td>\n",
       "      <td>1690</td>\n",
       "      <td>2170</td>\n",
       "    </tr>\n",
       "    <tr>\n",
       "      <th>2</th>\n",
       "      <td>1.00</td>\n",
       "      <td>770</td>\n",
       "      <td>6</td>\n",
       "      <td>2720</td>\n",
       "      <td>770</td>\n",
       "    </tr>\n",
       "    <tr>\n",
       "      <th>3</th>\n",
       "      <td>3.00</td>\n",
       "      <td>1960</td>\n",
       "      <td>7</td>\n",
       "      <td>1360</td>\n",
       "      <td>1050</td>\n",
       "    </tr>\n",
       "    <tr>\n",
       "      <th>4</th>\n",
       "      <td>2.00</td>\n",
       "      <td>1680</td>\n",
       "      <td>8</td>\n",
       "      <td>1800</td>\n",
       "      <td>1680</td>\n",
       "    </tr>\n",
       "    <tr>\n",
       "      <th>...</th>\n",
       "      <td>...</td>\n",
       "      <td>...</td>\n",
       "      <td>...</td>\n",
       "      <td>...</td>\n",
       "      <td>...</td>\n",
       "    </tr>\n",
       "    <tr>\n",
       "      <th>21608</th>\n",
       "      <td>2.50</td>\n",
       "      <td>1530</td>\n",
       "      <td>8</td>\n",
       "      <td>1530</td>\n",
       "      <td>1530</td>\n",
       "    </tr>\n",
       "    <tr>\n",
       "      <th>21609</th>\n",
       "      <td>2.50</td>\n",
       "      <td>2310</td>\n",
       "      <td>8</td>\n",
       "      <td>1830</td>\n",
       "      <td>2310</td>\n",
       "    </tr>\n",
       "    <tr>\n",
       "      <th>21610</th>\n",
       "      <td>0.75</td>\n",
       "      <td>1020</td>\n",
       "      <td>7</td>\n",
       "      <td>1020</td>\n",
       "      <td>1020</td>\n",
       "    </tr>\n",
       "    <tr>\n",
       "      <th>21611</th>\n",
       "      <td>2.50</td>\n",
       "      <td>1600</td>\n",
       "      <td>8</td>\n",
       "      <td>1410</td>\n",
       "      <td>1600</td>\n",
       "    </tr>\n",
       "    <tr>\n",
       "      <th>21612</th>\n",
       "      <td>0.75</td>\n",
       "      <td>1020</td>\n",
       "      <td>7</td>\n",
       "      <td>1020</td>\n",
       "      <td>1020</td>\n",
       "    </tr>\n",
       "  </tbody>\n",
       "</table>\n",
       "<p>21613 rows × 5 columns</p>\n",
       "</div>"
      ],
      "text/plain": [
       "       bathrooms  sqft_living  grade  sqft_living15  sqft_above\n",
       "0           1.00         1180      7           1340        1180\n",
       "1           2.25         2570      7           1690        2170\n",
       "2           1.00          770      6           2720         770\n",
       "3           3.00         1960      7           1360        1050\n",
       "4           2.00         1680      8           1800        1680\n",
       "...          ...          ...    ...            ...         ...\n",
       "21608       2.50         1530      8           1530        1530\n",
       "21609       2.50         2310      8           1830        2310\n",
       "21610       0.75         1020      7           1020        1020\n",
       "21611       2.50         1600      8           1410        1600\n",
       "21612       0.75         1020      7           1020        1020\n",
       "\n",
       "[21613 rows x 5 columns]"
      ]
     },
     "execution_count": 50,
     "metadata": {},
     "output_type": "execute_result"
    }
   ],
   "source": [
    "df_sig = df_predictors[['bathrooms', 'sqft_living', 'grade', 'sqft_living15', 'sqft_above']]\n",
    "df_sig"
   ]
  },
  {
   "cell_type": "code",
   "execution_count": 51,
   "id": "f92fbf30-6fe3-4348-9015-e250b41ad705",
   "metadata": {},
   "outputs": [],
   "source": [
    "X_sig = df_sig \n",
    "y_sig = prices"
   ]
  },
  {
   "cell_type": "code",
   "execution_count": 52,
   "id": "70b863df-9e84-49fb-be9b-bfaec36a14ec",
   "metadata": {},
   "outputs": [],
   "source": [
    "X_sig_train, X_sig_test, y_sig_train, y_sig_test = train_test_split(X_sig, y_sig, train_size = 0.7, test_size = 0.3)"
   ]
  },
  {
   "cell_type": "code",
   "execution_count": 53,
   "id": "3e4e3e2d-7698-482b-9976-e8b497788d35",
   "metadata": {},
   "outputs": [
    {
     "name": "stdout",
     "output_type": "stream",
     "text": [
      "MAPE: 0.3386025277463634\n"
     ]
    }
   ],
   "source": [
    "#Linear Regression with significant predictors\n",
    "regr_sig = LinearRegression()\n",
    "regr_sig.fit(X_sig_train, y_sig_train)\n",
    "y_sig_pred = regr_sig.predict(X_sig_test) \n",
    "print(\"MAPE:\", mean_absolute_percentage_error(y_sig_test, y_sig_pred))"
   ]
  },
  {
   "cell_type": "code",
   "execution_count": 54,
   "id": "206a6016-d36a-4798-be87-e12bcc6d2ab2",
   "metadata": {},
   "outputs": [
    {
     "name": "stdout",
     "output_type": "stream",
     "text": [
      "MAPE: 0.3160339553322207\n"
     ]
    }
   ],
   "source": [
    "#Random Forest Regressor with significant predictors \n",
    "RF_sig = RandomForestRegressor()\n",
    "RF_sig.fit(X_sig_train, y_sig_train)\n",
    "y_sig_pred = RF_sig.predict(X_sig_test)\n",
    "print(\"MAPE:\", mean_absolute_percentage_error(y_sig_test, y_sig_pred))"
   ]
  },
  {
   "cell_type": "code",
   "execution_count": 55,
   "id": "f0a2678c-487e-45c6-80cc-3e6fdb0f50fc",
   "metadata": {},
   "outputs": [
    {
     "name": "stdout",
     "output_type": "stream",
     "text": [
      "MAPE: 0.42601848281012117\n"
     ]
    }
   ],
   "source": [
    "#SVM with significant predictors \n",
    "SVM_sig = svm.SVR()\n",
    "SVM_sig.fit(X_sig_train, y_sig_train)\n",
    "y_sig_pred = SVM_sig.predict(X_sig_test) \n",
    "print(\"MAPE:\", mean_absolute_percentage_error(y_sig_test, y_sig_pred))"
   ]
  },
  {
   "cell_type": "code",
   "execution_count": 56,
   "id": "3f4f236a-763d-44fb-9631-32db5e2213c8",
   "metadata": {},
   "outputs": [],
   "source": [
    "#SVM across all predictors and significant predictors doesn't perform well compared to LR and RF"
   ]
  },
  {
   "cell_type": "code",
   "execution_count": 57,
   "id": "bdf29a39-a8ab-429b-b950-338997084167",
   "metadata": {},
   "outputs": [],
   "source": [
    "#Neural Network "
   ]
  },
  {
   "cell_type": "code",
   "execution_count": 58,
   "id": "9c123916-819f-4851-a040-313108a9d26d",
   "metadata": {},
   "outputs": [],
   "source": [
    "#Data Preprocessing to turn X and y into np arrays to then turn into tensors \n",
    "np_X = df_predictors.values\n",
    "np_y = prices.values"
   ]
  },
  {
   "cell_type": "code",
   "execution_count": 59,
   "id": "052677ff-16f2-467c-81ee-c77c15d76c37",
   "metadata": {},
   "outputs": [],
   "source": [
    "#Turning X and y into tensors for the neural network \n",
    "X_tens = torch.tensor(np_X, dtype = torch.float32) \n",
    "y_tens = torch.tensor(np_y, dtype = torch.float32).reshape(-1, 1) "
   ]
  },
  {
   "cell_type": "code",
   "execution_count": 60,
   "id": "b0e580df-99fa-4a38-9331-959c4cfee006",
   "metadata": {},
   "outputs": [
    {
     "name": "stdout",
     "output_type": "stream",
     "text": [
      "torch.Size([21613, 15]) torch.Size([21613, 1])\n"
     ]
    }
   ],
   "source": [
    "print(X_tens.shape, y_tens.shape)"
   ]
  },
  {
   "cell_type": "code",
   "execution_count": 61,
   "id": "79b50e4b-ddac-4651-a0bb-60574da36c1a",
   "metadata": {},
   "outputs": [
    {
     "name": "stdout",
     "output_type": "stream",
     "text": [
      "Sequential(\n",
      "  (0): Linear(in_features=15, out_features=64, bias=True)\n",
      "  (1): ReLU()\n",
      "  (2): Linear(in_features=64, out_features=32, bias=True)\n",
      "  (3): ReLU()\n",
      "  (4): Linear(in_features=32, out_features=16, bias=True)\n",
      "  (5): ReLU()\n",
      "  (6): Linear(in_features=16, out_features=1, bias=True)\n",
      ")\n"
     ]
    }
   ],
   "source": [
    "nn_model = nn.Sequential(\n",
    "    nn.Linear(15, 64),\n",
    "    nn.ReLU(),\n",
    "    nn.Linear(64, 32),\n",
    "    nn.ReLU(),\n",
    "    nn.Linear(32, 16),\n",
    "    nn.ReLU(),\n",
    "    nn.Linear(16, 1)\n",
    ")\n",
    "\n",
    "print(nn_model) "
   ]
  },
  {
   "cell_type": "code",
   "execution_count": 62,
   "id": "692d1a1e-f496-4a20-a972-b50d4586e483",
   "metadata": {},
   "outputs": [],
   "source": [
    "criterion = nn.MSELoss()\n",
    "optimizer = optim.Adam(nn_model.parameters(), lr = 0.00001) "
   ]
  },
  {
   "cell_type": "code",
   "execution_count": 63,
   "id": "9c348a37-616c-4d64-90c0-60d80ccf5f1f",
   "metadata": {},
   "outputs": [],
   "source": [
    "X_tens_train, X_tens_test, y_tens_train, y_tens_test = train_test_split(X_tens, y_tens, train_size = 0.7, test_size = 0.3) "
   ]
  },
  {
   "cell_type": "code",
   "execution_count": 64,
   "id": "e7df04ba-859f-4033-9c28-a31bcea171a9",
   "metadata": {},
   "outputs": [],
   "source": [
    "#Incorporate batches into the neural networks"
   ]
  },
  {
   "cell_type": "code",
   "execution_count": 65,
   "id": "bcb7f6a4-75c7-420f-9738-c68d8b78681b",
   "metadata": {},
   "outputs": [
    {
     "name": "stdout",
     "output_type": "stream",
     "text": [
      "Epoch [100/10000], Train Loss: 420375592960.0000, Test Loss: 440871157760.0000\n",
      "Epoch [200/10000], Train Loss: 420301963264.0000, Test Loss: 440794808320.0000\n",
      "Epoch [300/10000], Train Loss: 420221222912.0000, Test Loss: 440710823936.0000\n",
      "Epoch [400/10000], Train Loss: 420124033024.0000, Test Loss: 440609472512.0000\n",
      "Epoch [500/10000], Train Loss: 420001251328.0000, Test Loss: 440480858112.0000\n",
      "Epoch [600/10000], Train Loss: 419863134208.0000, Test Loss: 440337039360.0000\n",
      "Epoch [700/10000], Train Loss: 419720495104.0000, Test Loss: 440188403712.0000\n",
      "Epoch [800/10000], Train Loss: 419585458176.0000, Test Loss: 440048254976.0000\n",
      "Epoch [900/10000], Train Loss: 419456024576.0000, Test Loss: 439914004480.0000\n",
      "Epoch [1000/10000], Train Loss: 419295428608.0000, Test Loss: 439747280896.0000\n",
      "Epoch [1100/10000], Train Loss: 419093643264.0000, Test Loss: 439537401856.0000\n",
      "Epoch [1200/10000], Train Loss: 418897068032.0000, Test Loss: 439333421056.0000\n",
      "Epoch [1300/10000], Train Loss: 418701410304.0000, Test Loss: 439129800704.0000\n",
      "Epoch [1400/10000], Train Loss: 418432548864.0000, Test Loss: 438849634304.0000\n",
      "Epoch [1500/10000], Train Loss: 418144059392.0000, Test Loss: 438549970944.0000\n",
      "Epoch [1600/10000], Train Loss: 417833975808.0000, Test Loss: 438227435520.0000\n",
      "Epoch [1700/10000], Train Loss: 417506820096.0000, Test Loss: 437887500288.0000\n",
      "Epoch [1800/10000], Train Loss: 417167671296.0000, Test Loss: 437534851072.0000\n",
      "Epoch [1900/10000], Train Loss: 416810631168.0000, Test Loss: 437163589632.0000\n",
      "Epoch [2000/10000], Train Loss: 416433700864.0000, Test Loss: 436771389440.0000\n",
      "Epoch [2100/10000], Train Loss: 416035831808.0000, Test Loss: 436357398528.0000\n",
      "Epoch [2200/10000], Train Loss: 415614697472.0000, Test Loss: 435919060992.0000\n",
      "Epoch [2300/10000], Train Loss: 415167873024.0000, Test Loss: 435453919232.0000\n",
      "Epoch [2400/10000], Train Loss: 414690050048.0000, Test Loss: 434956238848.0000\n",
      "Epoch [2500/10000], Train Loss: 414185422848.0000, Test Loss: 434430443520.0000\n",
      "Epoch [2600/10000], Train Loss: 413655826432.0000, Test Loss: 433878499328.0000\n",
      "Epoch [2700/10000], Train Loss: 413099884544.0000, Test Loss: 433298800640.0000\n",
      "Epoch [2800/10000], Train Loss: 412515958784.0000, Test Loss: 432689348608.0000\n",
      "Epoch [2900/10000], Train Loss: 411903459328.0000, Test Loss: 432049815552.0000\n",
      "Epoch [3000/10000], Train Loss: 411261927424.0000, Test Loss: 431379677184.0000\n",
      "Epoch [3100/10000], Train Loss: 410591428608.0000, Test Loss: 430678474752.0000\n",
      "Epoch [3200/10000], Train Loss: 409891373056.0000, Test Loss: 429945847808.0000\n",
      "Epoch [3300/10000], Train Loss: 409161203712.0000, Test Loss: 429181042688.0000\n",
      "Epoch [3400/10000], Train Loss: 408400330752.0000, Test Loss: 428383535104.0000\n",
      "Epoch [3500/10000], Train Loss: 407607738368.0000, Test Loss: 427552178176.0000\n",
      "Epoch [3600/10000], Train Loss: 406782181376.0000, Test Loss: 426685595648.0000\n",
      "Epoch [3700/10000], Train Loss: 405919793152.0000, Test Loss: 425779593216.0000\n",
      "Epoch [3800/10000], Train Loss: 405022703616.0000, Test Loss: 424835940352.0000\n",
      "Epoch [3900/10000], Train Loss: 404092223488.0000, Test Loss: 423856242688.0000\n",
      "Epoch [4000/10000], Train Loss: 403128909824.0000, Test Loss: 422840893440.0000\n",
      "Epoch [4100/10000], Train Loss: 402133123072.0000, Test Loss: 421790253056.0000\n",
      "Epoch [4200/10000], Train Loss: 401105190912.0000, Test Loss: 420704518144.0000\n",
      "Epoch [4300/10000], Train Loss: 400045539328.0000, Test Loss: 419583918080.0000\n",
      "Epoch [4400/10000], Train Loss: 398954790912.0000, Test Loss: 418428846080.0000\n",
      "Epoch [4500/10000], Train Loss: 397833043968.0000, Test Loss: 417239400448.0000\n",
      "Epoch [4600/10000], Train Loss: 396681216000.0000, Test Loss: 416016531456.0000\n",
      "Epoch [4700/10000], Train Loss: 395500290048.0000, Test Loss: 414761025536.0000\n",
      "Epoch [4800/10000], Train Loss: 394291085312.0000, Test Loss: 413473439744.0000\n",
      "Epoch [4900/10000], Train Loss: 393054486528.0000, Test Loss: 412154724352.0000\n",
      "Epoch [5000/10000], Train Loss: 391791214592.0000, Test Loss: 410805436416.0000\n",
      "Epoch [5100/10000], Train Loss: 390501924864.0000, Test Loss: 409426001920.0000\n",
      "Epoch [5200/10000], Train Loss: 389187043328.0000, Test Loss: 408016846848.0000\n",
      "Epoch [5300/10000], Train Loss: 387847192576.0000, Test Loss: 406578135040.0000\n",
      "Epoch [5400/10000], Train Loss: 386482536448.0000, Test Loss: 405110128640.0000\n",
      "Epoch [5500/10000], Train Loss: 385093763072.0000, Test Loss: 403613253632.0000\n",
      "Epoch [5600/10000], Train Loss: 383681822720.0000, Test Loss: 402088525824.0000\n",
      "Epoch [5700/10000], Train Loss: 382249828352.0000, Test Loss: 400538828800.0000\n",
      "Epoch [5800/10000], Train Loss: 380800073728.0000, Test Loss: 398966292480.0000\n",
      "Epoch [5900/10000], Train Loss: 379334721536.0000, Test Loss: 397372588032.0000\n",
      "Epoch [6000/10000], Train Loss: 377855574016.0000, Test Loss: 395759845376.0000\n",
      "Epoch [6100/10000], Train Loss: 376364138496.0000, Test Loss: 394129276928.0000\n",
      "Epoch [6200/10000], Train Loss: 374862217216.0000, Test Loss: 392482488320.0000\n",
      "Epoch [6300/10000], Train Loss: 373351776256.0000, Test Loss: 390821249024.0000\n",
      "Epoch [6400/10000], Train Loss: 371828195328.0000, Test Loss: 389141037056.0000\n",
      "Epoch [6500/10000], Train Loss: 370278662144.0000, Test Loss: 387427598336.0000\n",
      "Epoch [6600/10000], Train Loss: 368724180992.0000, Test Loss: 385701806080.0000\n",
      "Epoch [6700/10000], Train Loss: 367170945024.0000, Test Loss: 383970639872.0000\n",
      "Epoch [6800/10000], Train Loss: 365620494336.0000, Test Loss: 382235901952.0000\n",
      "Epoch [6900/10000], Train Loss: 364075024384.0000, Test Loss: 380499886080.0000\n",
      "Epoch [7000/10000], Train Loss: 362536894464.0000, Test Loss: 378764886016.0000\n",
      "Epoch [7100/10000], Train Loss: 361008136192.0000, Test Loss: 377033195520.0000\n",
      "Epoch [7200/10000], Train Loss: 359491305472.0000, Test Loss: 375307337728.0000\n",
      "Epoch [7300/10000], Train Loss: 357988827136.0000, Test Loss: 373589344256.0000\n",
      "Epoch [7400/10000], Train Loss: 356502962176.0000, Test Loss: 371881476096.0000\n",
      "Epoch [7500/10000], Train Loss: 355036561408.0000, Test Loss: 370186584064.0000\n",
      "Epoch [7600/10000], Train Loss: 353591394304.0000, Test Loss: 368506568704.0000\n",
      "Epoch [7700/10000], Train Loss: 352169000960.0000, Test Loss: 366843723776.0000\n",
      "Epoch [7800/10000], Train Loss: 350771511296.0000, Test Loss: 365200310272.0000\n",
      "Epoch [7900/10000], Train Loss: 349401874432.0000, Test Loss: 363579179008.0000\n",
      "Epoch [8000/10000], Train Loss: 348062449664.0000, Test Loss: 361983049728.0000\n",
      "Epoch [8100/10000], Train Loss: 346754482176.0000, Test Loss: 360414478336.0000\n",
      "Epoch [8200/10000], Train Loss: 345479544832.0000, Test Loss: 358875365376.0000\n",
      "Epoch [8300/10000], Train Loss: 344240160768.0000, Test Loss: 357367873536.0000\n",
      "Epoch [8400/10000], Train Loss: 343037476864.0000, Test Loss: 355893903360.0000\n",
      "Epoch [8500/10000], Train Loss: 341871820800.0000, Test Loss: 354455158784.0000\n",
      "Epoch [8600/10000], Train Loss: 340743290880.0000, Test Loss: 353052786688.0000\n",
      "Epoch [8700/10000], Train Loss: 339651592192.0000, Test Loss: 351687737344.0000\n",
      "Epoch [8800/10000], Train Loss: 338597150720.0000, Test Loss: 350360895488.0000\n",
      "Epoch [8900/10000], Train Loss: 337580064768.0000, Test Loss: 349073080320.0000\n",
      "Epoch [9000/10000], Train Loss: 336599318528.0000, Test Loss: 347825045504.0000\n",
      "Epoch [9100/10000], Train Loss: 335652683776.0000, Test Loss: 346616004608.0000\n",
      "Epoch [9200/10000], Train Loss: 334738259968.0000, Test Loss: 345445662720.0000\n",
      "Epoch [9300/10000], Train Loss: 333853163520.0000, Test Loss: 344312610816.0000\n",
      "Epoch [9400/10000], Train Loss: 332993888256.0000, Test Loss: 343215505408.0000\n",
      "Epoch [9500/10000], Train Loss: 332157190144.0000, Test Loss: 342152052736.0000\n",
      "Epoch [9600/10000], Train Loss: 331338448896.0000, Test Loss: 341118943232.0000\n",
      "Epoch [9700/10000], Train Loss: 330533928960.0000, Test Loss: 340113293312.0000\n",
      "Epoch [9800/10000], Train Loss: 329739436032.0000, Test Loss: 339131793408.0000\n",
      "Epoch [9900/10000], Train Loss: 328952283136.0000, Test Loss: 338171297792.0000\n",
      "Epoch [10000/10000], Train Loss: 328168603648.0000, Test Loss: 337227710464.0000\n"
     ]
    }
   ],
   "source": [
    "epochs = 10000\n",
    "for epoch in range(epochs):\n",
    "    nn_model.train()\n",
    "\n",
    "    y_train_pred = nn_model(X_tens_train)\n",
    "\n",
    "    train_loss = criterion(y_train_pred, y_tens_train) \n",
    "\n",
    "    optimizer.zero_grad()\n",
    "    train_loss.backward()\n",
    "    optimizer.step()\n",
    "\n",
    "    nn_model.eval()\n",
    "    with torch.no_grad():\n",
    "        y_test_pred = nn_model(X_tens_test)\n",
    "        test_loss = criterion(y_test_pred, y_tens_test) \n",
    "\n",
    "    if (epoch + 1) % 100 == 0: \n",
    "        print(f'Epoch [{epoch+1}/{epochs}], Train Loss: {train_loss.item():.4f}, Test Loss: {test_loss.item():.4f}')"
   ]
  },
  {
   "cell_type": "code",
   "execution_count": 66,
   "id": "1f87c18c-bfc3-4de5-a6fe-1b582192d20c",
   "metadata": {},
   "outputs": [],
   "source": [
    "#Neural Network with the significant predictors "
   ]
  },
  {
   "cell_type": "code",
   "execution_count": 67,
   "id": "4c76b19f-48f5-4b19-9cf3-ea8305805977",
   "metadata": {},
   "outputs": [],
   "source": [
    "np_X_sig = df_sig.values\n",
    "np_y = prices.values"
   ]
  },
  {
   "cell_type": "code",
   "execution_count": 68,
   "id": "ba2001cc-2c22-4c5d-a0d9-dd2e6e6722f2",
   "metadata": {},
   "outputs": [],
   "source": [
    "X_sig_tens = torch.tensor(np_X_sig, dtype = torch.float32) \n",
    "y_tens = torch.tensor(np_y, dtype = torch.float32).reshape(-1, 1) "
   ]
  },
  {
   "cell_type": "code",
   "execution_count": 69,
   "id": "04dca32a-4213-4dc2-915b-0c617556d23e",
   "metadata": {},
   "outputs": [
    {
     "name": "stdout",
     "output_type": "stream",
     "text": [
      "torch.Size([21613, 5]) torch.Size([21613, 1])\n"
     ]
    }
   ],
   "source": [
    "print(X_sig_tens.shape, y_tens.shape)"
   ]
  },
  {
   "cell_type": "code",
   "execution_count": 70,
   "id": "799c4374-cb78-4866-b1d0-7cb7752e6da5",
   "metadata": {},
   "outputs": [],
   "source": [
    "X_sig_tens_train, X_sig_tens_test, y_sig_tens_train, y_sig_tens_test = train_test_split(X_sig_tens, y_tens, train_size = 0.7, test_size = 0.3) "
   ]
  },
  {
   "cell_type": "code",
   "execution_count": 71,
   "id": "f0b49b8e-42eb-4dc7-8621-61baf5489248",
   "metadata": {},
   "outputs": [
    {
     "name": "stdout",
     "output_type": "stream",
     "text": [
      "Sequential(\n",
      "  (0): Linear(in_features=5, out_features=64, bias=True)\n",
      "  (1): ReLU()\n",
      "  (2): Linear(in_features=64, out_features=32, bias=True)\n",
      "  (3): ReLU()\n",
      "  (4): Linear(in_features=32, out_features=16, bias=True)\n",
      "  (5): ReLU()\n",
      "  (6): Linear(in_features=16, out_features=1, bias=True)\n",
      ")\n"
     ]
    }
   ],
   "source": [
    "nn_model_sig = nn.Sequential(\n",
    "    nn.Linear(5, 64),\n",
    "    nn.ReLU(),\n",
    "    nn.Linear(64, 32),\n",
    "    nn.ReLU(),\n",
    "    nn.Linear(32, 16),\n",
    "    nn.ReLU(),\n",
    "    nn.Linear(16, 1)\n",
    ")\n",
    "print(nn_model_sig) "
   ]
  },
  {
   "cell_type": "code",
   "execution_count": 72,
   "id": "3b3beb07-d9e4-46ee-8eac-9c5576836bd1",
   "metadata": {},
   "outputs": [],
   "source": [
    "optimizer_2 = optim.Adam(nn_model_sig.parameters(), lr = 0.00001) "
   ]
  },
  {
   "cell_type": "code",
   "execution_count": 73,
   "id": "59edccae-8b50-4f34-99f5-2d45035ca9ad",
   "metadata": {},
   "outputs": [
    {
     "name": "stdout",
     "output_type": "stream",
     "text": [
      "Epoch [100/10000], Train Loss: 426685038592.0000, Test Loss: 425511190528.0000\n",
      "Epoch [200/10000], Train Loss: 426655776768.0000, Test Loss: 425482158080.0000\n",
      "Epoch [300/10000], Train Loss: 426618748928.0000, Test Loss: 425445654528.0000\n",
      "Epoch [400/10000], Train Loss: 426576576512.0000, Test Loss: 425403875328.0000\n",
      "Epoch [500/10000], Train Loss: 426529587200.0000, Test Loss: 425357312000.0000\n",
      "Epoch [600/10000], Train Loss: 426478436352.0000, Test Loss: 425306456064.0000\n",
      "Epoch [700/10000], Train Loss: 426422337536.0000, Test Loss: 425250586624.0000\n",
      "Epoch [800/10000], Train Loss: 426360340480.0000, Test Loss: 425188982784.0000\n",
      "Epoch [900/10000], Train Loss: 426294444032.0000, Test Loss: 425123610624.0000\n",
      "Epoch [1000/10000], Train Loss: 426224713728.0000, Test Loss: 425054240768.0000\n",
      "Epoch [1100/10000], Train Loss: 426150723584.0000, Test Loss: 424980774912.0000\n",
      "Epoch [1200/10000], Train Loss: 426072211456.0000, Test Loss: 424902721536.0000\n",
      "Epoch [1300/10000], Train Loss: 425988849664.0000, Test Loss: 424819916800.0000\n",
      "Epoch [1400/10000], Train Loss: 425900310528.0000, Test Loss: 424732098560.0000\n",
      "Epoch [1500/10000], Train Loss: 425806594048.0000, Test Loss: 424638840832.0000\n",
      "Epoch [1600/10000], Train Loss: 425707208704.0000, Test Loss: 424540143616.0000\n",
      "Epoch [1700/10000], Train Loss: 425602154496.0000, Test Loss: 424435744768.0000\n",
      "Epoch [1800/10000], Train Loss: 425491267584.0000, Test Loss: 424325545984.0000\n",
      "Epoch [1900/10000], Train Loss: 425374187520.0000, Test Loss: 424209252352.0000\n",
      "Epoch [2000/10000], Train Loss: 425250848768.0000, Test Loss: 424086634496.0000\n",
      "Epoch [2100/10000], Train Loss: 425120628736.0000, Test Loss: 423957299200.0000\n",
      "Epoch [2200/10000], Train Loss: 424983494656.0000, Test Loss: 423820984320.0000\n",
      "Epoch [2300/10000], Train Loss: 424839249920.0000, Test Loss: 423677624320.0000\n",
      "Epoch [2400/10000], Train Loss: 424687468544.0000, Test Loss: 423526891520.0000\n",
      "Epoch [2500/10000], Train Loss: 424528904192.0000, Test Loss: 423369342976.0000\n",
      "Epoch [2600/10000], Train Loss: 424363589632.0000, Test Loss: 423205142528.0000\n",
      "Epoch [2700/10000], Train Loss: 424190279680.0000, Test Loss: 423032881152.0000\n",
      "Epoch [2800/10000], Train Loss: 424008712192.0000, Test Loss: 422852526080.0000\n",
      "Epoch [2900/10000], Train Loss: 423818919936.0000, Test Loss: 422663913472.0000\n",
      "Epoch [3000/10000], Train Loss: 423620575232.0000, Test Loss: 422466912256.0000\n",
      "Epoch [3100/10000], Train Loss: 423413514240.0000, Test Loss: 422261227520.0000\n",
      "Epoch [3200/10000], Train Loss: 423197638656.0000, Test Loss: 422046760960.0000\n",
      "Epoch [3300/10000], Train Loss: 422972981248.0000, Test Loss: 421823545344.0000\n",
      "Epoch [3400/10000], Train Loss: 422739771392.0000, Test Loss: 421591875584.0000\n",
      "Epoch [3500/10000], Train Loss: 422498271232.0000, Test Loss: 421352013824.0000\n",
      "Epoch [3600/10000], Train Loss: 422248054784.0000, Test Loss: 421103534080.0000\n",
      "Epoch [3700/10000], Train Loss: 421988696064.0000, Test Loss: 420845846528.0000\n",
      "Epoch [3800/10000], Train Loss: 421719998464.0000, Test Loss: 420578852864.0000\n",
      "Epoch [3900/10000], Train Loss: 421441667072.0000, Test Loss: 420302454784.0000\n",
      "Epoch [4000/10000], Train Loss: 421153701888.0000, Test Loss: 420016357376.0000\n",
      "Epoch [4100/10000], Train Loss: 420855840768.0000, Test Loss: 419720527872.0000\n",
      "Epoch [4200/10000], Train Loss: 420547985408.0000, Test Loss: 419414704128.0000\n",
      "Epoch [4300/10000], Train Loss: 420229971968.0000, Test Loss: 419098886144.0000\n",
      "Epoch [4400/10000], Train Loss: 419901636608.0000, Test Loss: 418772811776.0000\n",
      "Epoch [4500/10000], Train Loss: 419562946560.0000, Test Loss: 418436317184.0000\n",
      "Epoch [4600/10000], Train Loss: 419213574144.0000, Test Loss: 418089369600.0000\n",
      "Epoch [4700/10000], Train Loss: 418853486592.0000, Test Loss: 417731674112.0000\n",
      "Epoch [4800/10000], Train Loss: 418482257920.0000, Test Loss: 417362968576.0000\n",
      "Epoch [4900/10000], Train Loss: 418100019200.0000, Test Loss: 416983351296.0000\n",
      "Epoch [5000/10000], Train Loss: 417706639360.0000, Test Loss: 416592658432.0000\n",
      "Epoch [5100/10000], Train Loss: 417301921792.0000, Test Loss: 416190726144.0000\n",
      "Epoch [5200/10000], Train Loss: 416885735424.0000, Test Loss: 415777390592.0000\n",
      "Epoch [5300/10000], Train Loss: 416458014720.0000, Test Loss: 415352586240.0000\n",
      "Epoch [5400/10000], Train Loss: 416018563072.0000, Test Loss: 414916149248.0000\n",
      "Epoch [5500/10000], Train Loss: 415567314944.0000, Test Loss: 414467915776.0000\n",
      "Epoch [5600/10000], Train Loss: 415103975424.0000, Test Loss: 414007787520.0000\n",
      "Epoch [5700/10000], Train Loss: 414628511744.0000, Test Loss: 413535535104.0000\n",
      "Epoch [5800/10000], Train Loss: 414140760064.0000, Test Loss: 413051125760.0000\n",
      "Epoch [5900/10000], Train Loss: 413640556544.0000, Test Loss: 412554362880.0000\n",
      "Epoch [6000/10000], Train Loss: 413127802880.0000, Test Loss: 412045017088.0000\n",
      "Epoch [6100/10000], Train Loss: 412602302464.0000, Test Loss: 411523186688.0000\n",
      "Epoch [6200/10000], Train Loss: 412063924224.0000, Test Loss: 410988511232.0000\n",
      "Epoch [6300/10000], Train Loss: 411512602624.0000, Test Loss: 410440957952.0000\n",
      "Epoch [6400/10000], Train Loss: 410948075520.0000, Test Loss: 409880363008.0000\n",
      "Epoch [6500/10000], Train Loss: 410370310144.0000, Test Loss: 409306595328.0000\n",
      "Epoch [6600/10000], Train Loss: 409779077120.0000, Test Loss: 408719491072.0000\n",
      "Epoch [6700/10000], Train Loss: 409174343680.0000, Test Loss: 408118919168.0000\n",
      "Epoch [6800/10000], Train Loss: 408555749376.0000, Test Loss: 407504650240.0000\n",
      "Epoch [6900/10000], Train Loss: 407923458048.0000, Test Loss: 406876651520.0000\n",
      "Epoch [7000/10000], Train Loss: 407277142016.0000, Test Loss: 406234791936.0000\n",
      "Epoch [7100/10000], Train Loss: 406616604672.0000, Test Loss: 405578907648.0000\n",
      "Epoch [7200/10000], Train Loss: 405941846016.0000, Test Loss: 404908834816.0000\n",
      "Epoch [7300/10000], Train Loss: 405252702208.0000, Test Loss: 404224475136.0000\n",
      "Epoch [7400/10000], Train Loss: 404549009408.0000, Test Loss: 403525632000.0000\n",
      "Epoch [7500/10000], Train Loss: 403830538240.0000, Test Loss: 402812239872.0000\n",
      "Epoch [7600/10000], Train Loss: 403097255936.0000, Test Loss: 402084134912.0000\n",
      "Epoch [7700/10000], Train Loss: 402348736512.0000, Test Loss: 401340891136.0000\n",
      "Epoch [7800/10000], Train Loss: 401585143808.0000, Test Loss: 400582705152.0000\n",
      "Epoch [7900/10000], Train Loss: 400806313984.0000, Test Loss: 399809282048.0000\n",
      "Epoch [8000/10000], Train Loss: 400011952128.0000, Test Loss: 399020556288.0000\n",
      "Epoch [8100/10000], Train Loss: 399202156544.0000, Test Loss: 398216495104.0000\n",
      "Epoch [8200/10000], Train Loss: 398376665088.0000, Test Loss: 397396836352.0000\n",
      "Epoch [8300/10000], Train Loss: 397535412224.0000, Test Loss: 396561481728.0000\n",
      "Epoch [8400/10000], Train Loss: 396678135808.0000, Test Loss: 395710300160.0000\n",
      "Epoch [8500/10000], Train Loss: 395804803072.0000, Test Loss: 394843062272.0000\n",
      "Epoch [8600/10000], Train Loss: 394915282944.0000, Test Loss: 393959800832.0000\n",
      "Epoch [8700/10000], Train Loss: 394008887296.0000, Test Loss: 393059794944.0000\n",
      "Epoch [8800/10000], Train Loss: 393086107648.0000, Test Loss: 392143503360.0000\n",
      "Epoch [8900/10000], Train Loss: 392146845696.0000, Test Loss: 391210860544.0000\n",
      "Epoch [9000/10000], Train Loss: 391190970368.0000, Test Loss: 390261669888.0000\n",
      "Epoch [9100/10000], Train Loss: 390218350592.0000, Test Loss: 389295898624.0000\n",
      "Epoch [9200/10000], Train Loss: 389228888064.0000, Test Loss: 388313513984.0000\n",
      "Epoch [9300/10000], Train Loss: 388222582784.0000, Test Loss: 387314286592.0000\n",
      "Epoch [9400/10000], Train Loss: 387199238144.0000, Test Loss: 386298150912.0000\n",
      "Epoch [9500/10000], Train Loss: 386158690304.0000, Test Loss: 385264975872.0000\n",
      "Epoch [9600/10000], Train Loss: 385100906496.0000, Test Loss: 384214695936.0000\n",
      "Epoch [9700/10000], Train Loss: 384025821184.0000, Test Loss: 383147245568.0000\n",
      "Epoch [9800/10000], Train Loss: 382933237760.0000, Test Loss: 382062428160.0000\n",
      "Epoch [9900/10000], Train Loss: 381823287296.0000, Test Loss: 380960243712.0000\n",
      "Epoch [10000/10000], Train Loss: 380695707648.0000, Test Loss: 379840593920.0000\n"
     ]
    }
   ],
   "source": [
    "epochs = 10000\n",
    "for epoch in range(epochs):\n",
    "    nn_model_sig.train()\n",
    "\n",
    "    y_train_pred = nn_model_sig(X_sig_tens_train)\n",
    "\n",
    "    train_loss = criterion(y_train_pred, y_sig_tens_train) \n",
    "\n",
    "    optimizer_2.zero_grad()\n",
    "    train_loss.backward()\n",
    "    optimizer_2.step()\n",
    "\n",
    "    nn_model_sig.eval()\n",
    "    with torch.no_grad():\n",
    "        y_test_pred = nn_model_sig(X_sig_tens_test)\n",
    "        test_loss = criterion(y_test_pred, y_sig_tens_test) \n",
    "\n",
    "    if (epoch + 1) % 100 == 0: \n",
    "        print(f'Epoch [{epoch+1}/{epochs}], Train Loss: {train_loss.item():.4f}, Test Loss: {test_loss.item():.4f}')"
   ]
  },
  {
   "cell_type": "code",
   "execution_count": 74,
   "id": "bf386e9c-bb7f-4273-a2be-bc0ed7a59458",
   "metadata": {},
   "outputs": [],
   "source": [
    "#Both Neural Networks have incredibly high training and test losses, so they may not be the best model for this data"
   ]
  },
  {
   "cell_type": "code",
   "execution_count": 75,
   "id": "cd713670-e8b4-47a3-94df-06a1830dc8fa",
   "metadata": {},
   "outputs": [],
   "source": [
    "#The Random Forest model using all predictors seems to be the most optimal model to make predictions. "
   ]
  }
 ],
 "metadata": {
  "kernelspec": {
   "display_name": "Python 3 (ipykernel)",
   "language": "python",
   "name": "python3"
  },
  "language_info": {
   "codemirror_mode": {
    "name": "ipython",
    "version": 3
   },
   "file_extension": ".py",
   "mimetype": "text/x-python",
   "name": "python",
   "nbconvert_exporter": "python",
   "pygments_lexer": "ipython3",
   "version": "3.12.7"
  }
 },
 "nbformat": 4,
 "nbformat_minor": 5
}
